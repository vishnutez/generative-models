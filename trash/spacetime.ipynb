{
 "cells": [
  {
   "cell_type": "code",
   "execution_count": 8,
   "metadata": {},
   "outputs": [
    {
     "name": "stdout",
     "output_type": "stream",
     "text": [
      "Jacobian matrix: \n",
      " tensor([[14.,  0.],\n",
      "        [ 0., 29.]])\n"
     ]
    }
   ],
   "source": [
    "import torch\n",
    "\n",
    "# Define a function f: R^2 -> R^2\n",
    "def f(x):\n",
    "    return x**3 + 2*x\n",
    "\n",
    "# Input tensor x\n",
    "u = torch.tensor([2.0, 3.0, 4.0])\n",
    "\n",
    "v = torch.tensor([10.0, 20.0])\n",
    "\n",
    "# Compute the Jacobian using autograd.functional.jacobian\n",
    "from torch.autograd.functional import jacobian, jvp\n",
    "jfu = jacobian(f, u[0:2])\n",
    "\n",
    "\n",
    "print(\"Jacobian matrix: \\n\", jfu)\n",
    "\n",
    "# jfu_v = jfu @ v\n",
    "\n",
    "# fu, jfv = jvp(f, (u[0:1],), (v,))\n",
    "\n",
    "# print('jf(x) v (jvp) = ', jfv)\n",
    "\n",
    "# print('jf(u) v (manual) = ', jfu_v)\n"
   ]
  },
  {
   "cell_type": "code",
   "execution_count": null,
   "metadata": {},
   "outputs": [],
   "source": []
  }
 ],
 "metadata": {
  "kernelspec": {
   "display_name": "pytorch-distributed",
   "language": "python",
   "name": "python3"
  },
  "language_info": {
   "codemirror_mode": {
    "name": "ipython",
    "version": 3
   },
   "file_extension": ".py",
   "mimetype": "text/x-python",
   "name": "python",
   "nbconvert_exporter": "python",
   "pygments_lexer": "ipython3",
   "version": "3.12.8"
  }
 },
 "nbformat": 4,
 "nbformat_minor": 2
}
